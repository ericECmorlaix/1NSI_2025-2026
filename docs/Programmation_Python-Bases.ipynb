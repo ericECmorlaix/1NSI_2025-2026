{
 "cells": [
  {
   "cell_type": "markdown",
   "metadata": {},
   "source": [
    "# Quelques bases de programmation en Python 3\n",
    "\n",
    "Nous avons découvert la programmation en Python 3 en nous appuyant sur les activités de [futurecoder.io](https://fr.futurecoder.io/) ;\n",
    "\n",
    "Après une présentation rapide du langage [Python](#généralité), de l'outil [futurecoder.io](#un-mot-sur-furturcoderio) et des [notebook jupyter](#utilisation-des-notebook-jupyter), vous trouverez ci-dessous un résumé de ce qu'il vous faudra retenir pour la suite de votre apprentissage ainsi que quelques exercices d'application et des précisions complémentaires..."
   ]
  },
  {
   "cell_type": "markdown",
   "metadata": {},
   "source": [
    "## Généralité\n",
    "[Python](https://fr.wikipedia.org/wiki/Python_(langage)) est un langage de programmation moderne imaginé par [Guido Van Rossum](https://fr.wikipedia.org/wiki/Guido_van_Rossum) , [multi-plateforme](https://fr.wikipedia.org/wiki/Logiciel_multiplate-forme), [open-source](https://fr.wikipedia.org/wiki/Open_source), [généraliste](https://fr.wikipedia.org/wiki/Langage_d%C3%A9di%C3%A9), [orienté objet](https://fr.wikipedia.org/wiki/Programmation_orient%C3%A9e_objet) et de [haut niveau](https://fr.wikipedia.org/wiki/Langage_de_haut_niveau).\n",
    "\n",
    "![Guido Van Rossum](https://upload.wikimedia.org/wikipedia/commons/thumb/e/e2/Guido-portrait-2014-drc.jpg/390px-Guido-portrait-2014-drc.jpg)\n",
    "\n",
    "> Python n'a rien à voir avec le reptile du même nom, mais avec le groupe d'humoristes anglais des années 1970 [Monty Python](https://fr.wikipedia.org/wiki/Monty_Python).\n",
    "\n",
    "C'est un langage à la fois simple et puissant :\n",
    "\n",
    "* simple car facile à apprendre, son code est réputé concis et clair, sa syntaxe est très proche d'une notation algorithmique, base de toute programmation.\n",
    "\n",
    "* puissant car il possède une importante bibliothèque standard et un très grand nombre de paquets complémentaires dédiés au calcul scientifique et aussi pour de nombreux autres domaines d'application. C'est le langage retenu en Classe Préparatoire aux Grandes Ecoles...\n",
    "\n",
    "> Python est considéré comme un langage de conception rapide (Rapid Application Development).\n",
    "\n",
    "C'est un langage **interprété** : pas besoin de compiler tout le programme source en code machine pour l'exécuter. L'interpréteur Python lit et exécute ligne après ligne un script codé en Python.  \n",
    "Ce qui est un très gros avantage pour l'apprentissage d'un langage informatique car on peut tester progressivement des portions de code au cours du développement d'un programme plus complet."
   ]
  },
  {
   "cell_type": "markdown",
   "metadata": {},
   "source": [
    "## Un mot sur furturcoder.io\n",
    "\n",
    "<center>\n",
    "<img src=\"https://futurecoder.forge.aeif.fr/static/logo/bordered.png\" alt=\"logo futurcoder.io\" width=10%>\n",
    "</center>\n",
    "\n",
    "Parce que **\"Le code du futur, c'est vous !\"**, Alex HALL ([alexmojaki](https://github.com/alexmojaki)) a développé [`futurcoder.io`](https://github.com/alexmojaki/futurecoder) un projet 100% open source d’envergure internationale de découverte de Python.  \n",
    "Il s’agit d'un interpréteur Python en ligne associé à un cours moderne et assez complet pour débutant, avec des exercices interactifs, un système d’aide très bien fait et des débugueurs variés.\n",
    "\n",
    "<!-- <center>\n",
    "<figure>\n",
    "<iframe width=\"560\" height=\"315\" src=\"https://www.youtube-nocookie.com/embed/un1BrrV57PA\" title=\"YouTube video player\" frameborder=\"0\" allow=\"accelerometer; autoplay; clipboard-write; encrypted-media; gyroscope; picture-in-picture\" allowfullscreen></iframe>\n",
    "</figure>\n",
    "</center> -->"
   ]
  },
  {
   "cell_type": "code",
   "execution_count": 2,
   "metadata": {},
   "outputs": [
    {
     "data": {
      "text/html": [
       "\n",
       "<center>\n",
       "<iframe width=\"560\" height=\"315\" src=\"https://www.youtube-nocookie.com/embed/un1BrrV57PA\" title=\"YouTube video player\" frameborder=\"0\" allow=\"accelerometer; autoplay; clipboard-write; encrypted-media; gyroscope; picture-in-picture\" allowfullscreen></iframe>\n",
       "</center>\n"
      ],
      "text/plain": [
       "<IPython.core.display.HTML object>"
      ]
     },
     "execution_count": 2,
     "metadata": {},
     "output_type": "execute_result"
    }
   ],
   "source": [
    "from IPython.display import HTML\n",
    "\n",
    "HTML('''\n",
    "<center>\n",
    "<iframe width=\"560\" height=\"315\" src=\"https://www.youtube-nocookie.com/embed/un1BrrV57PA\" title=\"YouTube video player\" frameborder=\"0\" allow=\"accelerometer; autoplay; clipboard-write; encrypted-media; gyroscope; picture-in-picture\" allowfullscreen></iframe>\n",
    "</center>\n",
    "''')"
   ]
  },
  {
   "cell_type": "markdown",
   "metadata": {},
   "source": [
    "La traduction française officielle a été réalisée par une poignée d'enseignants de NSI membres très actifs de l'[AEIF](https://aeif.fr/index.php/accueil/).\n",
    "Une copie hébergée en France (plus RGPD et sans tracker) est maintenue disponible à l'adresse [https://futurecoder.forge.aeif.fr/](https://futurecoder.forge.aeif.fr/).\n",
    "\n",
    "> A l'instar d'[autres développements](https://pyodide.org/en/stable/project/related-projects.html#notebook-environments-ides-and-repls) tels que Basthon, JupyterLite, ou encore PyScript, que nous utiliserons par la suite, `furturcoder.io` est basé sur la récente technologie [Pyodide](https://pyodide.org) qui permet d'interpréter des instructions Python directement dans un navigateur de façon interactive coté client..."
   ]
  },
  {
   "cell_type": "markdown",
   "metadata": {},
   "source": [
    "## Utilisation des notebook Jupyter\n",
    "\n",
    "Ce document est un [jupyter notebook](https://ericecmorlaix.github.io/adn-Tutoriel_lab_si/IDE/notebook/), il permet d'exécuter du code cellule après cellule et ainsi d'expérimenter progressivement les portions d'un programme plus complet au cours de son développement.\n",
    "\n",
    ">  Vous pouvez télécharger ce fichier avec son extension `.ipynb` en cliquant sur le bouton en haut à droite afin de l'éditer sur votre iPad en local avec l'application [Carnets](https://holzschu.github.io/Carnets_Jupyter/) ou dans votre navigateur avec [Basthon](https://notebook.basthon.fr/), ou encore avec [Visual Studio Code pour le Web](https://vscode.dev) en y installant les [extensions nécessaires](https://ericecmorlaix.github.io/adn-Tutoriel_lab_si/IDE/VSCode/#extensions-pour-vscode)...\n",
    ">> - Pour l'ouvrir  dans l'application [Carnets](https://holzschu.github.io/Carnets_Jupyter/), il faut préalablement déplacer le fichier téléchargé avec l'application [Fichier](https://apps.apple.com/fr/app/fichiers/id1232058109) dans le dossier `Carnets` sur votre iPad ;\n",
    ">> - Potentiellement, Safari peut ajouter une extension `.txt`, il faut alors ouvrir votre fichier avec l'application [Carnets](https://holzschu.github.io/Carnets_Jupyter/) et choisir dans le menu \"File>Rename\" pour supprimer cette extension puis cliquer sur `<` pour revenir dans l'explorateur des fichiers...\n",
    "\n",
    "La façon habituelle de lire l'ensemble du notebook consiste à exécuter successivement les instructions de la première cellule de code jusqu'à la fin du notebook.\n",
    "\n",
    "**Mais attention, il est important que les cellules de code soient évaluées dans le bon ordre. Si vous ne respectez pas l'ordre dans lequel les cellules de code sont présentées, le résultat peut être inattendu.**\n",
    "\n",
    "> En fait, évaluer un programme sous forme de notebook revient à le découper en petits fragments, et si on exécute ces fragments dans le désordre, on obtient naturellement le résultat d'un programme différent.\n",
    "\n",
    "### Entrée **In[ ]:** et Sortie **Out[ ]:**\n",
    "\n",
    "En cliquant sur le bouton <button class='fa fa-step-forward icon-step-forward btn btn-xs btn-default'></button> (ou en appuyant sur les touches d'un clavier **`<Maj+Entrée>`**, ou encore en utilisant dans le menu **`Cell>Run Cells and Select Below...`** cela a pour effet **d'exécuter le code** Python de la cellule sélectionnée et de présélectionner la cellule suivante...\n",
    "\n",
    "<h5 class='fa fa-cogs' style=\"color: MediumSeaGreen\"> Essayez vous-même : </h5>"
   ]
  },
  {
   "cell_type": "code",
   "execution_count": null,
   "metadata": {},
   "outputs": [],
   "source": [
    "1+1"
   ]
  },
  {
   "cell_type": "code",
   "execution_count": null,
   "metadata": {},
   "outputs": [],
   "source": [
    "\"Bonjour ! \""
   ]
  },
  {
   "cell_type": "markdown",
   "metadata": {},
   "source": [
    "Une ligne **Out[ ]:** apparait en dessous des instructions de code, affichant le résultat de celles-ci en sortie...\n",
    "\n",
    "On peut rappeler le résultat de la dernière sortie dans la cellule suivante et le réutiliser ainsi :"
   ]
  },
  {
   "cell_type": "code",
   "execution_count": null,
   "metadata": {},
   "outputs": [],
   "source": [
    "_"
   ]
  },
  {
   "cell_type": "code",
   "execution_count": null,
   "metadata": {},
   "outputs": [],
   "source": [
    "_ * 2"
   ]
  },
  {
   "cell_type": "markdown",
   "metadata": {},
   "source": [
    "On peut rappeler le résultat d'une sortie particulière dans une autre cellule pour le réutiliser :"
   ]
  },
  {
   "cell_type": "code",
   "execution_count": null,
   "metadata": {},
   "outputs": [],
   "source": [
    "Out[1] * 2"
   ]
  },
  {
   "cell_type": "markdown",
   "metadata": {},
   "source": [
    "> Rejouer les cellules précedentes, puis essayer de le refaire encore mais dans un ordre différent...\n",
    "\n",
    "> Vous pouvez également ajouter une nouvelle cellule à l'aider du bouton <button class='fa fa-plus icon-plus btn btn-xs btn-default'></button> pour essayer autre chose.\n",
    "\n",
    "> Un des avantages principaux des notebooks est de vous permettre de modifier le code que nous avons préalablement écrit, et de voir par vous-même comment se comporte le code modifié.  \n",
    "Pour cette raison chaque élève dispose de sa **propre copie** de chaque notebook, ainsi vous pouvez bien sûr apporter toutes les modifications que vous souhaitez à vos notebooks sans affecter ceux des autres élèves et revenir à la version originale en rechargeant un notebook à partir du lien fourni."
   ]
  },
  {
   "cell_type": "markdown",
   "metadata": {},
   "source": [
    "## Notions de programmation à retenir"
   ]
  },
  {
   "cell_type": "markdown",
   "metadata": {},
   "source": [
    "### Les Commentaires\n",
    "Lorsque l'on rédige un programme informatique il est essentiel de le commenter pour expliquer des intentions de développement, pour cela en Python on utilise le caractère **`#`** qui permet d'indiquer que tous les caractères suivants sur la même ligne ne doivent pas être interprétés comme du code d'instruction :"
   ]
  },
  {
   "cell_type": "code",
   "execution_count": 3,
   "metadata": {},
   "outputs": [],
   "source": [
    "##########################################\n",
    "#   Un programme pour saluer doublement  #\n",
    "##########################################\n",
    "# Out[2] * Out[1]\n",
    "# Décommenter l'instruction précédente..."
   ]
  },
  {
   "cell_type": "markdown",
   "metadata": {},
   "source": [
    "><u>Remarque</u>: Le simple fait d'ajouter un **`#`** permet de désactiver une ligne d'instruction sans avoir à l'effacer. Elle ne sera donc pas prise en compte par Python lors de l'exécution du programme. Aussi, il suffira de la décommenter en enlevant ce **`#`** pour la réactiver plus tard si besoin...\n",
    ">\n",
    "> Pour cela on peut utiliser la combinaison de touches **`<Ctrl+/>`**.\n",
    "\n",
    "<h4 class='fa fa-cogs' style=\"color: MediumSeaGreen\"> Essayez vous-même : </h4>\n",
    "\n",
    "- Décommenter l'instruction `Out[2] * Out[1]`"
   ]
  },
  {
   "cell_type": "markdown",
   "metadata": {},
   "source": [
    "### Opération de calcul sur les nombres\n",
    "\n",
    "Les opérateurs arithmétiques de Python sont :\n",
    "\n",
    "| Symbole | Opération    |\n",
    "|---------|--------------|\n",
    "| +       | Addition     |\n",
    "| -       | Soustraction |\n",
    "| *       | Multiplication |\n",
    "| /       | Division     |\n",
    "| //      | Division entière (renvoie le quotient) |\n",
    "| **      | Puissance |\n",
    "| %       | Modulo (renvoie le reste) |\n",
    "\n",
    "Pour observer les fonctionnalités de la machine à calculer Python, rendez-vous sur le bloc note [Arithmetique](https://nbviewer.org/urls/ericecmorlaix.github.io/bn/Arithmetique-Le_BN_pour_calculer.ipynb)\n",
    "\n",
    "<h4 class='fa fa-cogs' style=\"color: MediumSeaGreen\"> A faire vous-même : </h4>\n",
    "\n",
    "- Faire sur brouillon les calculs des instructions suivantes puis vérifier vos résultats en exécutant les cellules."
   ]
  },
  {
   "cell_type": "code",
   "execution_count": null,
   "metadata": {},
   "outputs": [],
   "source": [
    "(-4 + 13 * 2) // 20"
   ]
  },
  {
   "cell_type": "code",
   "execution_count": null,
   "metadata": {},
   "outputs": [],
   "source": [
    "(-4 + 13 * 2) % 20"
   ]
  },
  {
   "cell_type": "markdown",
   "metadata": {},
   "source": [
    "### Opération sur les chaines de caractères alphanumériques :\n",
    "\n",
    "> Une chaîne de caractères est une suite de caractères.  \n",
    "> Un caractère est un symbole tel qu'une lettre, un chiffre, un symbole de ponctuation, etc...\n",
    "\n",
    "Pour délimiter le début et la fin d'une chaine de caractères, on l'encadre par des guillemets simples (apostrophes) `'` ou doubles `\"`.\n",
    "\n",
    "> Ce qui permet d'intégrer une **`'`** ou des **`\"`** dans une chaine de caractères.  \n",
    "> Une autre solution consiste à utiliser un caractère spécial d'échappement **`\\`**\n",
    "\n",
    "En Python, les chaines de caractères sont des données **immutables** (non modifiables).\n",
    "\n",
    "<h4 class='fa fa-cogs' style=\"color: MediumSeaGreen\"> Essayez vous-même : </h4>\n",
    "\n",
    "- Les deux cellules suivantes produisent le même résultat :"
   ]
  },
  {
   "cell_type": "code",
   "execution_count": null,
   "metadata": {},
   "outputs": [],
   "source": [
    "'ma chaine'"
   ]
  },
  {
   "cell_type": "code",
   "execution_count": null,
   "metadata": {},
   "outputs": [],
   "source": [
    "\"ma chaine\""
   ]
  },
  {
   "cell_type": "markdown",
   "metadata": {},
   "source": [
    "<h4 class='fa fa-cogs' style=\"color: MediumSeaGreen\"> A faire vous-même : </h4>\n",
    "\n",
    "- Vérifiez que l'instruction suivante produit une erreur puis trouvez une solution pour y remédier :"
   ]
  },
  {
   "cell_type": "code",
   "execution_count": null,
   "metadata": {},
   "outputs": [],
   "source": [
    "'Demat d'an holl'"
   ]
  },
  {
   "cell_type": "markdown",
   "metadata": {},
   "source": [
    "#### Concaténation\n",
    "\n",
    "On peut concaténer deux chaines grâce à l'opérateur **`+`**.\n",
    "\n",
    "> Il faut saisir un caractère espace dans une chaine pour laisser une espace entre deux portions de chaines."
   ]
  },
  {
   "cell_type": "code",
   "execution_count": null,
   "metadata": {},
   "outputs": [],
   "source": [
    "'Hello'+' '+'World'+' !'"
   ]
  },
  {
   "cell_type": "markdown",
   "metadata": {},
   "source": [
    "#### Répétition\n",
    "\n",
    "On peut répéter une chaine grâce à l'opérateur **`*`**."
   ]
  },
  {
   "cell_type": "code",
   "execution_count": null,
   "metadata": {},
   "outputs": [],
   "source": [
    "\"to\"*2"
   ]
  },
  {
   "cell_type": "markdown",
   "metadata": {},
   "source": [
    "###  Variables :\n",
    "\n",
    "Pour définir une **variable** en Python, il suffit :\n",
    "\n",
    "- de la nommer (_directement, sans autre mot clé comme `var`, `int`, contrairement à d'autres langages_),\n",
    "\n",
    "> Il est recommandé de choisir pour les variables des noms significatifs de ce qu'elles représentent ;  \n",
    "> Pour former un nom de variable avec plusieurs mots on remplace les espaces par des tirets du bas `_` (le caractère underscore) ;\n",
    "\n",
    "- et de lui associer une valeur en utilisant l'opérateur d'**affectation** : **`=`**."
   ]
  },
  {
   "cell_type": "code",
   "execution_count": 2,
   "metadata": {},
   "outputs": [],
   "source": [
    "ma_premiere_variable = 'Hello World !'"
   ]
  },
  {
   "cell_type": "markdown",
   "metadata": {},
   "source": [
    "L'exécution d'une instruction constituée du nom d'une variable renvoie la valeur qu'elle référence "
   ]
  },
  {
   "cell_type": "code",
   "execution_count": null,
   "metadata": {},
   "outputs": [],
   "source": [
    "ma_premiere_variable"
   ]
  },
  {
   "cell_type": "markdown",
   "metadata": {},
   "source": [
    "\n",
    "L'exécution d'une instruction comportant une variable non définie renvoie systématiquement une erreur."
   ]
  },
  {
   "cell_type": "code",
   "execution_count": null,
   "metadata": {},
   "outputs": [],
   "source": [
    "ma_seconde_variable"
   ]
  },
  {
   "cell_type": "markdown",
   "metadata": {},
   "source": [
    "Mais rien n'est définitif, car l'intérêt des variables est de pouvoir changer de valeur"
   ]
  },
  {
   "cell_type": "code",
   "execution_count": 3,
   "metadata": {},
   "outputs": [],
   "source": [
    "ma_seconde_variable = 5"
   ]
  },
  {
   "cell_type": "markdown",
   "metadata": {},
   "source": [
    "> **initialiser** une variable consite à lui affecter une valeur de départ comme par exemple :\n",
    "> - `mot = ''` => une chaine vide, aucun caractère au départ ;\n",
    "> - `score = 0` => un nombre nul, début à partir de zéro...\n",
    "\n",
    "<h4 class='fa fa-graduation-cap' style=\"color: darkorange\"> Permutation de variables version 1 : </h4>\n",
    "\n",
    "Soit les variables `a` et `b` définies telles que :"
   ]
  },
  {
   "cell_type": "code",
   "execution_count": null,
   "metadata": {},
   "outputs": [],
   "source": [
    "a = 5\n",
    "b = 'toto'"
   ]
  },
  {
   "cell_type": "code",
   "execution_count": null,
   "metadata": {},
   "outputs": [],
   "source": [
    "a"
   ]
  },
  {
   "cell_type": "code",
   "execution_count": null,
   "metadata": {},
   "outputs": [],
   "source": [
    "b"
   ]
  },
  {
   "cell_type": "markdown",
   "metadata": {},
   "source": [
    "Dans la cellule suivante, écrire un script qui, en utilisant une variable tampon nommée `c`, va intervertir les valeurs de `a` et de `b` :"
   ]
  },
  {
   "cell_type": "code",
   "execution_count": null,
   "metadata": {},
   "outputs": [],
   "source": []
  },
  {
   "cell_type": "markdown",
   "metadata": {},
   "source": [
    "#### Typage dynamique\n",
    "\n",
    "La fonction **`type()`** renvoie le type d'une valeur (ou celui de la valeur associée à une variable) :\n",
    "\n",
    "<h5 class='fa fa-cogs' style=\"color: MediumSeaGreen\"> Essayez vous-même : </h5>\n"
   ]
  },
  {
   "cell_type": "code",
   "execution_count": null,
   "metadata": {},
   "outputs": [],
   "source": [
    "type(\"Demat d'an holl !\")"
   ]
  },
  {
   "cell_type": "code",
   "execution_count": null,
   "metadata": {},
   "outputs": [],
   "source": [
    "type(ma_premiere_variable)"
   ]
  },
  {
   "cell_type": "code",
   "execution_count": null,
   "metadata": {},
   "outputs": [],
   "source": [
    "type(ma_seconde_variable)"
   ]
  },
  {
   "cell_type": "code",
   "execution_count": 6,
   "metadata": {},
   "outputs": [
    {
     "data": {
      "text/plain": [
       "(5.0, float)"
      ]
     },
     "execution_count": 6,
     "metadata": {},
     "output_type": "execute_result"
    }
   ],
   "source": [
    "ma_troisieme_variable = 5.0\n",
    "ma_troisieme_variable, type(ma_troisieme_variable)"
   ]
  },
  {
   "cell_type": "markdown",
   "metadata": {},
   "source": [
    "> Voici donc quelques types de valeurs :\n",
    ">* **`str`** pour string, une chaine de caractères alphanumériques ;\n",
    ">* **`int`** pour integer, un nombre entier ;\n",
    ">* **`float`** un nombre [flottant](https://fr.wikipedia.org/wiki/Virgule_flottante), représentant un nombre réel."
   ]
  },
  {
   "cell_type": "markdown",
   "metadata": {},
   "source": [
    "Python attribue de façon dynamique à une variable le **type** correspondant à la valeur qu'elle référence."
   ]
  },
  {
   "cell_type": "markdown",
   "metadata": {},
   "source": [
    "#### Opérations entre variables\n",
    "\n",
    "Les opérations vues précédemment s'appliquent aussi entre des variables à condition que leur types soient compatibles et on peut alors en mémoriser le résultat dans une autre variable :\n",
    "\n",
    "<h4 class='fa fa-cogs' style=\"color: MediumSeaGreen\"> Essayez vous-même : </h4>"
   ]
  },
  {
   "cell_type": "code",
   "execution_count": null,
   "metadata": {},
   "outputs": [],
   "source": [
    "(ma_premiere_variable + \" \") * ma_seconde_variable"
   ]
  },
  {
   "cell_type": "code",
   "execution_count": null,
   "metadata": {},
   "outputs": [],
   "source": [
    "v = 5\n",
    "u = 12\n",
    "t = v + u\n",
    "t"
   ]
  },
  {
   "cell_type": "code",
   "execution_count": null,
   "metadata": {},
   "outputs": [],
   "source": [
    "ma_premiere_variable + ma_seconde_variable"
   ]
  },
  {
   "cell_type": "code",
   "execution_count": null,
   "metadata": {},
   "outputs": [],
   "source": [
    "(ma_premiere_variable + \" \") * ma_troisieme_variable"
   ]
  },
  {
   "cell_type": "markdown",
   "metadata": {},
   "source": [
    "#### Incrémentation et décrémentation d'une variable\n",
    "\n",
    "<h5 class='fa fa-cogs' style=\"color: MediumSeaGreen\"> Essayez vous-même : </h5>\n",
    "\n",
    "- Initialisez la variable `i` puis,\n",
    "- Exécutez les cellules des codes d'incrémentation et de décrémentation suivantes plusieures fois de suite ;\n",
    "- Essayez aussi pour des valeurs de $pas\\neq1$..."
   ]
  },
  {
   "cell_type": "code",
   "execution_count": null,
   "metadata": {},
   "outputs": [],
   "source": [
    "# initialisation de la variable\n",
    "i = 0\n",
    "i"
   ]
  },
  {
   "cell_type": "code",
   "execution_count": null,
   "metadata": {},
   "outputs": [],
   "source": [
    "# incrémentation de la variable d'un pas de 1, code de base\n",
    "i = i + 1\n",
    "i"
   ]
  },
  {
   "cell_type": "code",
   "execution_count": null,
   "metadata": {},
   "outputs": [],
   "source": [
    "# incrémentation de la variable d'un pas de 1, code condensé\n",
    "i += 1\n",
    "i"
   ]
  },
  {
   "cell_type": "code",
   "execution_count": null,
   "metadata": {},
   "outputs": [],
   "source": [
    "# incrémentation de la variable d'un pas de -1, code de base\n",
    "i = i - 1\n",
    "i"
   ]
  },
  {
   "cell_type": "code",
   "execution_count": null,
   "metadata": {},
   "outputs": [],
   "source": [
    "# incrémentation de la variable d'un pas de -1, code condensé\n",
    "i -= 1\n",
    "i"
   ]
  },
  {
   "cell_type": "markdown",
   "metadata": {},
   "source": [
    "> D'autres langages possèdent des notations encore plus condensées pour l'incrémentation **`i++`** et la décrémentation **`i--`** par pas de 1."
   ]
  },
  {
   "cell_type": "markdown",
   "metadata": {},
   "source": [
    "<h4 class='fa fa-graduation-cap' style=\"color: darkorange\"> Permutation de variables version 2 :</h4>\n",
    "\n",
    "Soit les variables `a` et `b` définies telles que :"
   ]
  },
  {
   "cell_type": "code",
   "execution_count": null,
   "metadata": {},
   "outputs": [],
   "source": [
    "a = 5\n",
    "b = 3"
   ]
  },
  {
   "cell_type": "code",
   "execution_count": null,
   "metadata": {},
   "outputs": [],
   "source": [
    "a"
   ]
  },
  {
   "cell_type": "code",
   "execution_count": null,
   "metadata": {},
   "outputs": [],
   "source": [
    "b"
   ]
  },
  {
   "cell_type": "markdown",
   "metadata": {},
   "source": [
    "Dans la cellule suivante, écrire un script qui, par une suite d'opérations arithmétiques, va intervertir les valeus de `a` et de `b` :"
   ]
  },
  {
   "cell_type": "code",
   "execution_count": null,
   "metadata": {},
   "outputs": [],
   "source": []
  },
  {
   "cell_type": "markdown",
   "metadata": {},
   "source": [
    "### Fonction d'entrée de données :\n",
    "\n",
    "Il est parfois nécessaire de demander à l'utilisateur d'entrer des données pour attribuer une valeur à une variable. On utilise pour cela la fonction **`input()`**.\n",
    "\n",
    "<h4 class='fa fa-cogs' style=\"color: MediumSeaGreen\"> Essayez vous-même : </h4>\n",
    "\n",
    "- Exécuter cette cellule plusieurs fois pour essayer avec des entrées de différents types..."
   ]
  },
  {
   "cell_type": "code",
   "execution_count": null,
   "metadata": {},
   "outputs": [],
   "source": [
    "ma_variable = input(\"Entrer une valeur d'un type quelconque : \")\n",
    "ma_variable, type(ma_variable)"
   ]
  },
  {
   "cell_type": "markdown",
   "metadata": {},
   "source": [
    "> On observe que le type renvoyé par cette cellule est toujours une chaines de caractères alphanumériques.  \n",
    "Il sera donc nécessaire de changer ce type en nombre pour pouvoir utiliser cette variable dans des opérations de calculs arythmétiques, et inversement pour des opérations de concaténation sur des chaines de caractères.\n",
    "\n",
    "Les fonctions de conversion de type (transtypage ou cast) qui nous seront utiles ici sont **`int()`**, **`float()`**, **`str()`**."
   ]
  },
  {
   "cell_type": "code",
   "execution_count": null,
   "metadata": {},
   "outputs": [],
   "source": [
    "ma_nouvelle_variable = float(input(\"Entrer un réel : \"))\n",
    "ma_nouvelle_variable, type(ma_nouvelle_variable)"
   ]
  },
  {
   "cell_type": "markdown",
   "metadata": {},
   "source": [
    "### Fonction d'affichage en sortie :\n",
    "\n",
    "La fonction **`print()`** permet d'afficher du contenu :\n",
    "\n",
    "<h4 class='fa fa-cogs' style=\"color: MediumSeaGreen\"> Essayez vous-même : </h4>"
   ]
  },
  {
   "cell_type": "code",
   "execution_count": null,
   "metadata": {},
   "outputs": [],
   "source": [
    "print(\"L'heure est venue de programmer\")\n",
    "print(\"au\",\"lycée\",\"Notre\",\"Dame\",\"du\",\"Mur\")\n",
    "print(maPremiereVariable)\n",
    "print(maSecondeVariable)\n",
    "print(maTroisiemeVariable)\n",
    "print(0x1A)\n",
    "print(0b1100)\n",
    "print(\"Python...\\n\" + \">\" * 10, 'c\\'est \"cool\" !')"
   ]
  },
  {
   "cell_type": "markdown",
   "metadata": {},
   "source": [
    "> On observe que les chaines de caractères s'affichent sans guillemets  \n",
    "> et qu'un nombre indiqué en hexadécimal ou en binaire est affiché en décimal...  \n",
    "\n",
    "La fonction **`print()`** admet deux arguments interessants :  \n",
    "\n",
    "* **`sep`**  qui permet de séparer les valeurs par un texte de votre choix.  Par défaut le séparateur est une espace **`\" \"`**.\n",
    "* **`end`** qui permet d'ajouter à la fin un texte de votre choix. Par defaut la fin de ligne est un retour à la ligne **`\"\\n\"`**."
   ]
  },
  {
   "cell_type": "code",
   "execution_count": null,
   "metadata": {},
   "outputs": [],
   "source": [
    "print(\"L'heure est venue de programmer\", end = \" \")\n",
    "print(\"au\",\"lycée\",\"Notre\",\"Dame\",\"du\",\"Mur\")\n",
    "print(maPremiereVariable, end=\" | \")\n",
    "print(maSecondeVariable, end=\" | \")\n",
    "print(maTroisiemeVariable, end=\" | \")\n",
    "print(0x1A, end=\" | \")\n",
    "print(0b1100)\n",
    "print(\"Python...\", \">\" * 10 + ' c\\'est \"cool\" !', sep = \"\\n\")"
   ]
  },
  {
   "cell_type": "markdown",
   "metadata": {},
   "source": [
    "Pour afficher un résultat avec du texte combiné avec des variables, il existe plusieurs méthodes :"
   ]
  },
  {
   "cell_type": "code",
   "execution_count": null,
   "metadata": {},
   "outputs": [],
   "source": [
    "u = 15\n",
    "i = 1\n",
    "print(\"u\",i,\" = \",u,sep='')"
   ]
  },
  {
   "cell_type": "markdown",
   "metadata": {},
   "source": [
    "> Par défaut sep est un espace, si on souhaite que l'indice soit acollé à la variable u, il faut redéfinir sep... "
   ]
  },
  {
   "cell_type": "code",
   "execution_count": null,
   "metadata": {},
   "outputs": [],
   "source": [
    "u = 15\n",
    "i = 1\n",
    "print(\"u\"+str(i)+\" = \"+str(u))"
   ]
  },
  {
   "cell_type": "markdown",
   "metadata": {},
   "source": [
    "> Il faut convertir les nombres en **`string`** pour pouvoir les **concaténer** avec du texte.\n",
    "\n",
    "Avant Python 3.6, le plus élégant consistait à utiliser la méthode **`format()`**, en voici un exemple :"
   ]
  },
  {
   "cell_type": "code",
   "execution_count": null,
   "metadata": {},
   "outputs": [],
   "source": [
    "a=4\n",
    "b=5\n",
    "print(\"Le produit de {0} par {1} est {2}\\nLa division de {1} par {0} donne {3}\".format(a,b,a*b,b/a))"
   ]
  },
  {
   "cell_type": "markdown",
   "metadata": {},
   "source": [
    "> On remplace **`{ }`** par le contenu de la variable. Peu importe son type, le résultat sera affiché.\n",
    "\n",
    "Depuis Python 3.6, on peut utiliser les **`f-strings`** pour formatter une chaine de caractères :"
   ]
  },
  {
   "cell_type": "code",
   "execution_count": null,
   "metadata": {},
   "outputs": [],
   "source": [
    "a=4\n",
    "b=5\n",
    "print(f\"Le produit de {a} par {b} est {a*b}\\nLa division de {b} par {a} donne {b/a}\")"
   ]
  },
  {
   "cell_type": "markdown",
   "metadata": {},
   "source": [
    "<h4 class='fa fa-cogs' style=\"color: MediumSeaGreen\"> A faire vous-même : </h4>\n",
    "\n",
    "- Vérifiez que la cellule suivante produit une erreur puis trouvez une solution pour y remédier en remplaçant toutes les concaténations de chaine par une seule f-string :"
   ]
  },
  {
   "cell_type": "code",
   "execution_count": null,
   "metadata": {},
   "outputs": [],
   "source": [
    "nom = \"Alice\"\n",
    "age = 20\n",
    "print(\"Bonjour \" + nom + \". Vous avez \" + age + \" ans.\")"
   ]
  },
  {
   "cell_type": "markdown",
   "metadata": {},
   "source": [
    "## Structure séquentielle : une ligne de code <=> une instruction\n",
    "\n",
    "Un programme informatique est une séquence d'instructions. <img src=\"https://ericecmorlaix.github.io/img/Sequence.svg\" width=\"10%\">\n",
    "\n",
    "L'instruction 3 sera exécutée seulement après l'exécution de l'instruction 2. L'ordre des instructions est donc important.\n",
    "\n",
    "> Dans de nombreux langages de programmation comme Java, C, PHP ou JavaScript, les instructions sont séparées par un point-virgule.\n",
    ">\n",
    "> On observe qu'il n'y a pas de **`;`** à la fin d'une instruction Python, c'est donc le retour à la ligne qui marque la fin de l'instruction et donc le début de la suivante.\n",
    "\n",
    "<h3 class='fa fa-graduation-cap' style=\"color: MediumSeaGreen\">France IOI - Algoréa - Séquence d'instructions </h3>\n",
    "\n",
    "[![SequencePythonAlgorea.png](https://ericecmorlaix.github.io/img/SequencePythonAlgorea.png)](https://parcours.algorea.org/fr/a/5538868055472359160;p=4702,5794277797719192711,204136604821791621,540678427040899806,3080878003834387961,7555157999148281392;a=0)"
   ]
  },
  {
   "cell_type": "markdown",
   "metadata": {},
   "source": [
    "**Est-ce la première, la seconde, la troisième ou la quatrième grille en partant de la gauche ?**\n",
    "\n",
    "_Votre réponse :_"
   ]
  },
  {
   "cell_type": "markdown",
   "metadata": {},
   "source": [
    "> En réalité Python autorise le **`;`** pour séparer des instructions et permet ainsi d'écrire une séquence d'instructions sur une même ligne tel que :"
   ]
  },
  {
   "cell_type": "code",
   "execution_count": null,
   "metadata": {},
   "outputs": [],
   "source": [
    "maPremiereVariable='Hello World!';maPremiereVariable"
   ]
  },
  {
   "cell_type": "markdown",
   "metadata": {},
   "source": [
    "> Le résultat est bien évidemment le même, mais cette pratique, très rarement utilisée, est à éviter car cela devient vite illisible.  \n",
    "Elle est à réserver pour des tests temporaires pour son coté pratique car il suffit alors d'un seul **`#`** pour désactiver toute une séquence..."
   ]
  },
  {
   "cell_type": "markdown",
   "metadata": {},
   "source": [
    "## Structure itérative : boucle de répétitions avec for\n",
    "\n",
    "La notion de boucle est fondamentale en informatique. Une boucle permet d'exécuter plusieurs fois des instructions qui ne sont inscrites qu'une seule fois dans le code.\n",
    "\n",
    "La boucle **_for_** prend ses valeurs dans un ensemble itératif :\n",
    "\n",
    "```python\n",
    "for variable in iterable\n",
    "```\n",
    "À chaque itération (un tour de boucle), la variable prendra pour valeur un élément de l'itérable (un caractère d'une chaine, un élément d'une liste, ...).\n",
    "\n",
    "Pour créer une boucle équivalente aux boucles traditionnelles (pour **_i_** allant de **_m_** à **_n_**, faire...), nous utiliserons la fonction **`range()`** pour créer un itérable égal à une suite de valeurs entières.\n",
    "  \n",
    "La syntaxe générale est\n",
    "```python\n",
    "for i in range(m,n,p):\n",
    "```  \n",
    "**_i_** prend alors toutes les valeurs de **_m_** à **_n-1_** par pas de **_p_**\n",
    "\n",
    "<h3 class='fa fa-cogs' style=\"color: MediumSeaGreen\"> Essayez vous-même : </h3>"
   ]
  },
  {
   "cell_type": "code",
   "execution_count": null,
   "metadata": {},
   "outputs": [],
   "source": [
    "for i in range(1,4):\n",
    "    print(i)"
   ]
  },
  {
   "cell_type": "code",
   "execution_count": null,
   "metadata": {},
   "outputs": [],
   "source": [
    "for i in range(4):\n",
    "    print(i)"
   ]
  },
  {
   "cell_type": "code",
   "execution_count": null,
   "metadata": {},
   "outputs": [],
   "source": [
    "for i in range(0,6,2):\n",
    "    print(i)"
   ]
  },
  {
   "cell_type": "code",
   "execution_count": null,
   "metadata": {},
   "outputs": [],
   "source": [
    "for i in range(4,0,-1):\n",
    "    print(i)"
   ]
  },
  {
   "cell_type": "markdown",
   "metadata": {},
   "source": [
    "On peut aussi parcourir une chaîne de caractères :"
   ]
  },
  {
   "cell_type": "code",
   "execution_count": null,
   "metadata": {},
   "outputs": [],
   "source": [
    "for lettre in \"Bonjour\":\n",
    "    print(lettre)"
   ]
  },
  {
   "cell_type": "markdown",
   "metadata": {},
   "source": [
    "<h3 class='fa fa-cogs' style=\"color: MediumSeaGreen\"> A faire vous-même : </h3>\n",
    "\n",
    "- Modifier le programme de la cellule suivante pour qu'il affiche ` d, l, r, o, W,`"
   ]
  },
  {
   "cell_type": "code",
   "execution_count": 1,
   "metadata": {},
   "outputs": [
    {
     "name": "stdout",
     "output_type": "stream",
     "text": [
      "W\n",
      "Wo\n",
      "Wor\n",
      "Worl\n",
      "World\n"
     ]
    }
   ],
   "source": [
    "nom = 'World'\n",
    "ligne = ''\n",
    "for caractere in nom:\n",
    "    ligne = ligne + caractere\n",
    "    print(ligne)"
   ]
  },
  {
   "cell_type": "code",
   "execution_count": 2,
   "metadata": {},
   "outputs": [
    {
     "name": "stdout",
     "output_type": "stream",
     "text": [
      "d,l,r,o,W,\n"
     ]
    }
   ],
   "source": [
    "nom = 'World'\n",
    "ligne = ''\n",
    "for caractere in nom:\n",
    "    ligne = # zone à modifier\n",
    "print(ligne)"
   ]
  },
  {
   "cell_type": "markdown",
   "metadata": {},
   "source": [
    "<h3 class='fa fa-graduation-cap' style=\"color: MediumSeaGreen\">France IOI - Algoréa - Boucle <code>for</code> : </h3>\n",
    "\n",
    "[![BoucleForAlgorea.png](https://ericecmorlaix.github.io/img/BoucleForAlgorea.png)](https://parcours.algorea.org/fr/a/4714154749630652771;p=4702,5794277797719192711,204136604821791621,540678427040899806,3080878003834387961,1831974898040186897;pa=0)"
   ]
  },
  {
   "cell_type": "markdown",
   "metadata": {},
   "source": [
    "**Est-ce le premier, le second, le troisième ou le quatrième programme en partant de la gauche ?**\n",
    "\n",
    "_Votre réponse :_"
   ]
  },
  {
   "cell_type": "markdown",
   "metadata": {},
   "source": [
    "### Indentation obligatoire en Python :\n",
    "\n",
    "Python oblige donc le développeur à structurer son code a l'aide des **indentations** : ce sont elles qui, après les **`:`**, détermineront les limites du bloc de la séquence d'instructions répétées dans la boucle et non pas les accolades comme dans la majorité des langages comme par exemple en JavaScript:\n",
    "``` javascript\n",
    "for (initialisation ; condition ; modification) {\n",
    "\tInstruction 1 ;\n",
    "\tInstruction 2 ;\n",
    "\t... ;\n",
    "}\n",
    "```\n",
    "> L'indentation n'est donc pas ogligatoire dans tous les langages informatiques. Par exemple en Javascript on pourrait programmer tel que :\n",
    ">\n",
    "``` javascript\n",
    "for(var i=0;i<8;i++){ellipse(positionX+entraxe*i,positionY,diametre,diametre);Instruction 2 ; Instruction 3 ; Instruction 4 ... ;}\n",
    "```  \n",
    "> Ce qui devient bien évidemment rapidement illisible pour un humain normalement constitué...\n",
    "\n",
    "Python oblige donc par nature à produire du code clair et lisible donc plus facilement maintenable...\n",
    "\n",
    "<center><a href=\"https://lesjoiesducode.fr/anniversaire-langage-python-30-ans\"><img src=\"https://lesjoiesducode.fr/content/043/dev_python_indentation_code.jpg\" width=40%></a></center>\n",
    "\n",
    "\n"
   ]
  },
  {
   "cell_type": "markdown",
   "metadata": {},
   "source": [
    "> Il convient de toujours indenter avec 4 espaces. D'autres valeurs sont possibles, dans un bloc, de manière cohérente, mais 4 espaces est la convention adoptée par presque tout le monde. Remarquez que l'éditeur vous simplifie la tâche. Si vous pressez \"Tab\" dans l'éditeur, il va insérer 4 espaces pour vous.\n",
    "\n",
    ">_Que ceux qui souhaiteraient coder avec des accolades en Python, exécutent l'instruction  suivante dans un interpréteur :_"
   ]
  },
  {
   "cell_type": "code",
   "execution_count": null,
   "metadata": {},
   "outputs": [],
   "source": [
    "from __future__ import braces"
   ]
  },
  {
   "cell_type": "markdown",
   "metadata": {},
   "source": [
    "> _et constatent que les développeurs de Python, avec ce genre d'\"easter egg\", ne manquent pas d'humour à l'instar des Monty..._\n",
    ">_https://stackoverflow.com/questions/17811855/syntax-error-not-a-chance_\n",
    ">\n",
    "> Essayer aussi avec :\n",
    "```python\n",
    "import this\n",
    "```\n",
    "```python\n",
    "import __hello__\n",
    "```\n",
    "```python\n",
    "import antigravity\n",
    "```"
   ]
  },
  {
   "cell_type": "code",
   "execution_count": null,
   "metadata": {},
   "outputs": [],
   "source": [
    "import this"
   ]
  },
  {
   "cell_type": "markdown",
   "metadata": {},
   "source": [
    "## Opérateurs relationnels, les comparateurs :\n",
    "\n",
    "| Symbole | Opération |\n",
    "|---------|-----------|\n",
    "| ==      | égal      |\n",
    "| !=      | différent |\n",
    "| <       | inférieur |\n",
    "| >       | supérieur |\n",
    "| <=      | inférieur ou égal |\n",
    "| >=      | supérieur ou égal |\n",
    "\n",
    "Ces opérateurs permettent de faire des tests conditionnels :\n",
    "\n",
    "<h3 class='fa fa-cogs' style=\"color: MediumSeaGreen\"> Essayez vous-même : </h3>"
   ]
  },
  {
   "cell_type": "code",
   "execution_count": null,
   "metadata": {},
   "outputs": [],
   "source": [
    "condition1 = ( 0 == 1 )\n",
    "condition1,type(condition1)"
   ]
  },
  {
   "cell_type": "code",
   "execution_count": null,
   "metadata": {},
   "outputs": [],
   "source": [
    "condition2 = ( 0 <= 1 )\n",
    "condition2,type(condition2)"
   ]
  },
  {
   "cell_type": "markdown",
   "metadata": {},
   "source": [
    "> On découvre là un nouveau type de variable **`bool`** pour booléen, leur valeur est soit **`True`** soit **`False`**.\n",
    "> \n",
    "> Nous verrons plus tard plus en détails la logique booléenne que l'on doit à [George](https://fr.wikipedia.org/wiki/George_Boole)"
   ]
  },
  {
   "cell_type": "markdown",
   "metadata": {},
   "source": [
    "## Structure conditionnelle (alternatives), si ...  alors ...  sinon :\n",
    "\n",
    "\n",
    "```python\n",
    "if condition:\n",
    "    # Traitement bloc 1\n",
    "else:\n",
    "    # Traitement bloc 2\n",
    "```\n",
    "\n",
    "Pour les tests multiples, il faudra enchaîner les if en cascade grâce à l'instruction elif, contraction de else if :\n",
    "\n",
    "\n",
    "```python\n",
    "if condition:\n",
    "    # Traitement bloc 1\n",
    "elif:\n",
    "    # Traitement bloc 2\n",
    "else:\n",
    "    # Traitement bloc 3\n",
    "```\n",
    "\n",
    "\n",
    "<h3 class='fa fa-graduation-cap' style=\"color: MediumSeaGreen\">France IOI - Algoréa - Alternative : </h3>\n",
    "\n",
    "[![AlternativeAlgorea.png](https://ericecmorlaix.github.io/img/AlternativeAlgorea.png)](https://parcours.algorea.org/fr/a/8662634313287387278;p=4702,5794277797719192711,204136604821791621,540678427040899806,3080878003834387961,3942152020288861336;pa=0)\n"
   ]
  },
  {
   "cell_type": "markdown",
   "metadata": {},
   "source": [
    "**Est-ce la première, la seconde, la troisième ou la quatrième instruction en partant de la gauche ?**\n",
    "\n",
    "_Votre réponse :_"
   ]
  },
  {
   "cell_type": "markdown",
   "metadata": {},
   "source": [
    "<h3 class='fa fa-cogs' style=\"color: MediumSeaGreen\">Autre exemple à tester vous-même : </h3>\n",
    "\n",
    "- Essayez le script de la cellule suivante et trouver une stratégie qui permet de réduire le nombre de tentatives :"
   ]
  },
  {
   "cell_type": "code",
   "execution_count": null,
   "metadata": {},
   "outputs": [],
   "source": [
    "# L'ordinateur génère un nombre secret compris entre 1 et 100 de façon aléatoire\n",
    "from random import randint\n",
    "nombre_secret = randint(1,100)\n",
    "\n",
    "print(\"Saurez-vous trouver le nombre secret en moins de 10 coups ?\")\n",
    "\n",
    "for i in range (10) :\n",
    "    \n",
    "    # On demande au joueur de saisir un nombre entier compris entre 1 et 100\n",
    "    proposition_du_joueur = int(input(\"\\nSaisir un nombre entier compris entre 1 et 100 = \"))\n",
    "    \n",
    "    if proposition_du_joueur < nombre_secret :\n",
    "        print(f\"C'est plus grand...\\nIl vous reste {9-i} tentatives.\")\n",
    "            \n",
    "    elif proposition_du_joueur > nombre_secret :\n",
    "        print(f\"C'est plus petit...\\nIl vous reste {9-i} tentatives.\")\n",
    "            \n",
    "    else :\n",
    "        print(f\"Bravo, vous avez trouvez le nombre secret en {i+1} coups !\")\n",
    "        break\n",
    "\n",
    "if i+1 == 10 :\n",
    "    print(f\"Dommage, vous n'avez pas trouvez le nombre secret en moins de {i+1} coups !\\nRéfléchissez à une stratégie pour trouvez en réduisant vos tentatives...\")\n",
    "      "
   ]
  },
  {
   "cell_type": "markdown",
   "metadata": {},
   "source": [
    "> Ce script utilise la méthode `randint()` du module `random` :"
   ]
  },
  {
   "cell_type": "code",
   "execution_count": null,
   "metadata": {},
   "outputs": [],
   "source": [
    "from random import randint\n",
    "help(randint)"
   ]
  },
  {
   "cell_type": "code",
   "execution_count": null,
   "metadata": {},
   "outputs": [],
   "source": [
    "randint(1,6)# Simule le lancé d'un dé à six faces"
   ]
  },
  {
   "cell_type": "markdown",
   "metadata": {},
   "source": [
    "<h3 class='fa fa-code' style=\"color: darkorange\"> Chi Fou Mi à coder vous même : </h3>\n",
    "\n",
    "- Programmer un jeu de [Pierre-Feuille-Ciseau](https://fr.wikipedia.org/wiki/Pierre-papier-ciseaux) entre un joueur et l'ordinateur. Le meilleur des cinqs manches remporte la partie :"
   ]
  },
  {
   "cell_type": "code",
   "execution_count": null,
   "metadata": {},
   "outputs": [],
   "source": []
  },
  {
   "cell_type": "markdown",
   "metadata": {},
   "source": [
    "## Autres boucles avec while (TANT QUE ou JUSQU'A) :\n",
    "\n",
    "<img src=\"https://ericecmorlaix.github.io/img/BoucleFor.svg\" width=\"30%\">\n",
    "\n",
    "``` python\n",
    "Initialisation\n",
    "# Début de la boucle\n",
    "while Condition :\n",
    "\tInstruction 1\n",
    "\tInstruction 2\n",
    "\t...\n",
    "    Dernière Instruction\n",
    "    Modification\n",
    "# fin de la boucle et suite du programme\n",
    "```\n",
    "Les instructions inscrites dans la boucle forment un bloc d'instructions. Elles seront répétées tant que la condition de répétition est vrai.  \n",
    "Dès que la condition de répétition est fausse le programme sort de la boucle et se poursuit au delà.  \n",
    "L'initialisation déclare une variable et lui affecte une valeur initiale par exemple **`i = 0`**.\n",
    "La modification fait évoluer cette variable de façon régulière à chaque tour de boucle, par exemple par incrémentation **`i+=1`**.\n",
    "La condition consiste donc à faire un test binaire (vrai ou faux) sur la valeur de la variable **`i`**. Puisque **`i`** évolue à chaque tour de boucle, le résultat du test deviendra donc faux au bout d'un nombre fini d'itération.  \n",
    "Ce test s'appuie sur des opérateurs relationnels afin d'établir une comparaison entre la variable **`i`** et la valeur limite de répétition, par exemple **`i < 8`**.\n",
    "\n",
    "Ce qui donne par exemple :"
   ]
  },
  {
   "cell_type": "code",
   "execution_count": null,
   "metadata": {},
   "outputs": [],
   "source": [
    "i=0\n",
    "print('Début de la boucle')\n",
    "while i<8 :\n",
    "    print('    Mon')\n",
    "    print('    Bloc')\n",
    "    print(\"    d'instructions\")\n",
    "    i+=1\n",
    "    print('   ',i)\n",
    "print('Fin de la boucle, prêt pour la suite du programme')"
   ]
  },
  {
   "cell_type": "markdown",
   "metadata": {},
   "source": [
    "<h3 class='fa fa-graduation-cap' style=\"color: MediumSeaGreen\">France IOI - Algoréa - Boucle <code>while</code> : </h3>\n",
    "\n",
    "[![BoucleWhileAlgorea.png](https://ericecmorlaix.github.io/img/BoucleWhileAlgorea.png)](https://parcours.algorea.org/fr/a/3171240146208380275;p=4702,5794277797719192711,204136604821791621,540678427040899806,3080878003834387961,685075010475402917;pa=0)"
   ]
  },
  {
   "cell_type": "markdown",
   "metadata": {},
   "source": [
    "**Est-ce le premier, le second, le troisième ou le quatrième programme en partant de la gauche ?**\n",
    "\n",
    "_Votre réponse :_"
   ]
  },
  {
   "cell_type": "markdown",
   "metadata": {},
   "source": [
    "##  Les fonctions :\n",
    "\n",
    "Les fonctions se définissent de la façon suivante :\n",
    "\n",
    "```Python\n",
    "def maFonction(parametre1, parametre2):\n",
    "    instructions\n",
    "    return valeur1, valeur2\n",
    "```\n",
    "Exemple :"
   ]
  },
  {
   "cell_type": "code",
   "execution_count": null,
   "metadata": {},
   "outputs": [],
   "source": [
    "def max(x,y):\n",
    "    if (x > y):\n",
    "        return x\n",
    "    else :\n",
    "        return y"
   ]
  },
  {
   "cell_type": "markdown",
   "metadata": {},
   "source": [
    "Pour l'utiliser, il faut l'appeler :"
   ]
  },
  {
   "cell_type": "code",
   "execution_count": null,
   "metadata": {},
   "outputs": [],
   "source": [
    "max(6,3)"
   ]
  },
  {
   "cell_type": "markdown",
   "metadata": {},
   "source": [
    "On peut ensuite la rapeller autant de fois qu'on le souhaite :"
   ]
  },
  {
   "cell_type": "code",
   "execution_count": null,
   "metadata": {},
   "outputs": [],
   "source": [
    "max(-9,1)"
   ]
  },
  {
   "cell_type": "markdown",
   "metadata": {},
   "source": [
    "<h3 class='fa fa-graduation-cap' style=\"color: MediumSeaGreen\">France IOI - Algoréa - Fonction : </h3>\n",
    "\n",
    "[![FonctionAlgorea.png](https://ericecmorlaix.github.io/img/FonctionAlgorea.png)](https://parcours.algorea.org/fr/a/3914526968809474817;p=4702,5794277797719192711,204136604821791621,540678427040899806,3080878003834387961,8898346518305397231;pa=0)"
   ]
  },
  {
   "cell_type": "markdown",
   "metadata": {},
   "source": [
    "**Est-ce le premier, le second, le troisième ou le quatrième programme en partant de la gauche ?**\n",
    "\n",
    "_Votre réponse :_"
   ]
  },
  {
   "cell_type": "markdown",
   "metadata": {},
   "source": [
    "<h3 class='fa fa-code' style=\"color: darkorange\"> Formes creuses en console à coder vous même : </h3>\n",
    "\n",
    "**Ce que doit faire votre programme :**\n",
    "\n",
    "Écrivez un programme qui affiche une ligne de « X », un rectangle de « # », et un triangle de « @ ». Les deux formes doivent être creuses (remplies avec des espaces).\n",
    "\n",
    "L'entrée comporte quatre entiers, un par ligne :\n",
    "\n",
    "le nombre de « X » de la ligne à afficher ;\n",
    "le nombre de lignes du rectangle de « # » ;\n",
    "le nombre de colonnes du rectangle ;\n",
    "le nombre de lignes du triangle de « @ ».\n",
    "\n",
    "Vous devez afficher les trois formes successivement, avec une ligne blanche entre chaque forme, comme le montre l'exemple.\n",
    "\n",
    "Votre objectif doit être d'obtenir le code source le plus simple et clair possible, en le décomposant en fonctions.\n",
    "\n",
    "**Exemple**\n",
    "\n",
    "entrée :\n",
    "\n",
    "```\n",
    "15\n",
    "5\n",
    "12\n",
    "6\n",
    "\n",
    "```\n",
    "\n",
    "sortie :\n",
    "\n",
    "```\n",
    "XXXXXXXXXXXXXXX\n",
    "\n",
    "############\n",
    "#          #\n",
    "#          #\n",
    "#          #\n",
    "############\n",
    "\n",
    "@\n",
    "@@\n",
    "@ @\n",
    "@  @\n",
    "@   @\n",
    "@@@@@@\n",
    "\n",
    "```\n",
    "\n",
    "**Commentaires**\n",
    "\n",
    "Attention : le nombre de lignes ou de colonnes peut être égal à 1."
   ]
  },
  {
   "cell_type": "code",
   "execution_count": null,
   "metadata": {},
   "outputs": [],
   "source": []
  },
  {
   "cell_type": "markdown",
   "metadata": {},
   "source": [
    "## Outils\n",
    "\n",
    "### Interpréteur en ligne\n",
    "\n",
    "- [L'ide de futurecoder](https://fr.futurecoder.io/course/#ide) peut être utilisé à tout moment avec ses débuggeur propres que sont **snoop** et **birdseye** pour tester du code et cela indépendemment de votre progression dans le flux normal des pages du [cours de futurecoder](https://futurecoder.forge.aeif.fr/course/#toc)\n",
    "\n",
    "- [La console de basthon](https://console.basthon.fr/) offre également un ide en ligne.\n",
    "\n",
    "### Notebook en ligne\n",
    "\n",
    "- [Le notebook de basthon](https://notebook.basthon.fr/)\n",
    "\n",
    "- [Le lab de jupyterLite](https://jupyter.org/try-jupyter/lab/) \n",
    "\n",
    "### Python tutor :\n",
    "\n",
    "[Python tutor](http://pythontutor.com/) permet de visualiser pas à pas ce que fait votre script.\n",
    "\n",
    "Il est possible de l'utiliser dans un notebook jupyter pour cela il faut :\n",
    "1. l'installer (si ce n'est pas déjà fait) : ``%pip install metakernel``\n",
    "1. puis exécuter les instructions de la cellule suivante :"
   ]
  },
  {
   "cell_type": "code",
   "execution_count": null,
   "metadata": {},
   "outputs": [],
   "source": [
    "from metakernel import register_ipython_magics\n",
    "register_ipython_magics()"
   ]
  },
  {
   "cell_type": "markdown",
   "metadata": {},
   "source": [
    "3. inscrire la commande ``%%tutor`` devant le script à tester dans la cellule :"
   ]
  },
  {
   "cell_type": "code",
   "execution_count": null,
   "metadata": {},
   "outputs": [],
   "source": [
    "%%tutor\n",
    "# Script à tester :\n",
    "for i in range(0,6,2):\n",
    "    print(i)"
   ]
  },
  {
   "cell_type": "markdown",
   "metadata": {},
   "source": [
    "## Vocabulaire\n",
    "\n",
    "- **expression** : une portion de code qui possède une valeur ;\n",
    "- **évaluer** : calculer la valeur d'une expression ;\n",
    "- **instruction** : une ligne de code qui commande d'exécuter une action ;\n",
    "- **affectation** : action de donner une valeur à une variable ;\n",
    "- **itération** : un tour de boucle ;\n",
    "- **concaténer** : joindre des chaines de caractères ;\n",
    "- **incrémenter/décrémenter** : Augmenter/diminuer une variable d'une valeur fixée ;\n",
    "- **indentation** : ajout de tabulation ou d'espaces (x4) pour délimiter des blocs d'instructions ;\n",
    "\n"
   ]
  },
  {
   "cell_type": "markdown",
   "metadata": {},
   "source": [
    "## Autres ressources :\n",
    "\n",
    "- [Documentation python 3](https://docs.python.org/fr/3/) \n",
    "- [France IOI](http://www.france-ioi.org/algo/chapters.php)\n",
    "- [Fabrice DUMONT](http://python.lecoinduprogrammeur.org/) \n",
    "- [Jean-Daniel Bonjour](https://enacit1.epfl.ch/introduction-python/)\n",
    "- [Débuter avec python au lycée](http://python.lycee.free.fr/)-   \n",
    "- "
   ]
  },
  {
   "cell_type": "markdown",
   "metadata": {},
   "source": [
    "****\n",
    "## Références aux programmes :\n",
    "\n",
    "<style type=\"text/css\">\n",
    ".tg  {border-collapse:collapse;border-spacing:0;}\n",
    ".tg td{font-family:Arial, sans-serif;font-size:14px;padding:10px 5px;border-style:solid;border-width:1px;overflow:hidden;word-break:normal;border-color:black;}\n",
    ".tg th{font-family:Arial, sans-serif;font-size:14px;font-weight:normal;padding:10px 5px;border-style:solid;border-width:1px;overflow:hidden;word-break:normal;border-color:black;}\n",
    ".tg .tg-cv16{font-weight:bold;background-color:#dae8fc;border-color:inherit;text-align:center}\n",
    ".tg .tg-xldj{border-color:inherit;text-align:left}\n",
    "</style>\n",
    "\n",
    "<h3>Langages et programmation</h3> \n",
    "<table class=\"tg\">\n",
    "  <tr>\n",
    "    <th class=\"tg-cv16\">Contenus</th>\n",
    "    <th class=\"tg-cv16\">Capacités attendues</th>\n",
    "    <th class=\"tg-cv16\">Commentaires</th>\n",
    "  </tr>\n",
    "  <tr>\n",
    "    <td class=\"tg-xldj\">Constructions\n",
    "élémentaires</td>\n",
    "    <td class=\"tg-xldj\">Mettre en évidence un corpus\n",
    "de constructions élémentaires.</td>\n",
    "    <td class=\"tg-xldj\">Séquences, affectation,\n",
    "conditionnelles, boucles bornées,\n",
    "boucles non bornées, appels de\n",
    "fonction</td>\n",
    "  </tr>\n",
    "  <tr>\n",
    "    <td class=\"tg-xldj\">Diversité et unité des\n",
    "langages de\n",
    "programmation\n",
    "</td>\n",
    "    <td class=\"tg-xldj\">Repérer, dans un nouveau\n",
    "langage de programmation, les\n",
    "traits communs et les traits\n",
    "particuliers à ce langage.</td>\n",
    "    <td class=\"tg-xldj\">Les manières dont un même\n",
    "programme simple s’écrit dans\n",
    "différents langages sont\n",
    "comparées.\n",
    "</td>\n",
    "  </tr>\n",
    "</table>"
   ]
  },
  {
   "cell_type": "markdown",
   "metadata": {},
   "source": [
    "<a rel=\"license\" href=\"http://creativecommons.org/licenses/by-sa/4.0/\"><img alt=\"Licence Creative Commons\" style=\"border-width:0\" src=\"https://i.creativecommons.org/l/by-sa/4.0/88x31.png\" /></a><br />Ce document est mis à disposition selon les termes de la <a rel=\"license\" href=\"http://creativecommons.org/licenses/by-sa/4.0/\">Licence Creative Commons Attribution -  Partage dans les Mêmes Conditions 4.0 International</a>.\n",
    "\n",
    "Pour toute question, suggestion ou commentaire : <a href=\"mailto:eric.madec@ecmorlaix.fr\">eric.madec@ecmorlaix.fr</a>"
   ]
  },
  {
   "cell_type": "markdown",
   "metadata": {},
   "source": [
    "## "
   ]
  }
 ],
 "metadata": {
  "kernelspec": {
   "display_name": "Python 3",
   "language": "python",
   "name": "python3"
  },
  "language_info": {
   "codemirror_mode": {
    "name": "ipython",
    "version": 3
   },
   "file_extension": ".py",
   "mimetype": "text/x-python",
   "name": "python",
   "nbconvert_exporter": "python",
   "pygments_lexer": "ipython3",
   "version": "3.10.1"
  },
  "orig_nbformat": 4
 },
 "nbformat": 4,
 "nbformat_minor": 2
}
